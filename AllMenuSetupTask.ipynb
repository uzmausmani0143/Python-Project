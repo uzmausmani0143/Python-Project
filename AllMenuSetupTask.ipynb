{
 "cells": [
  {
   "cell_type": "code",
   "execution_count": 9,
   "id": "2c60978d",
   "metadata": {},
   "outputs": [
    {
     "name": "stdout",
     "output_type": "stream",
     "text": [
      "Welcome to my part\n",
      "\n",
      "Press 1: to see the calendar\n",
      "Press 2: to run Chrome\n",
      "Press 3: to open the notebook\n",
      "Enter your choice: 2\n",
      "You entered: 2\n",
      "chrome\n"
     ]
    }
   ],
   "source": [
    "import os\n",
    "\n",
    "print(\"Welcome to my part\")\n",
    "print()\n",
    "print(\"Press 1: to see the calendar\")\n",
    "print(\"Press 2: to run Chrome\")\n",
    "print(\"Press 3: to open the notebook\")\n",
    "\n",
    "ch = input(\"Enter your choice: \")\n",
    "print(\"You entered:\", ch)\n",
    "\n",
    "if ch == \"1\":\n",
    "    print(\"calender\")\n",
    "    # Code to see the calendar\n",
    "elif ch == \"2\":\n",
    "    print(\"chrome\")\n",
    "    # Code to open Chrome\n",
    "    # Replace os.system(\"chrome\") with the appropriate command to run Chrome based on your OS\n",
    "elif ch == \"3\":\n",
    "    print(\"Opening notebook...\")\n",
    "    # Code to open the notebook\n",
    "else:\n",
    "    print(\"Invalid choice. Please choose a valid option (1, 2, or 3).\")\n"
   ]
  },
  {
   "cell_type": "code",
   "execution_count": null,
   "id": "d92ff261",
   "metadata": {},
   "outputs": [],
   "source": []
  },
  {
   "cell_type": "code",
   "execution_count": null,
   "id": "60104d54",
   "metadata": {},
   "outputs": [],
   "source": []
  },
  {
   "cell_type": "code",
   "execution_count": null,
   "id": "b48b11a3",
   "metadata": {},
   "outputs": [],
   "source": []
  },
  {
   "cell_type": "code",
   "execution_count": null,
   "id": "8012cce2",
   "metadata": {},
   "outputs": [],
   "source": []
  },
  {
   "cell_type": "code",
   "execution_count": null,
   "id": "4b700c01",
   "metadata": {},
   "outputs": [],
   "source": []
  },
  {
   "cell_type": "code",
   "execution_count": null,
   "id": "0f8ae7bf",
   "metadata": {},
   "outputs": [],
   "source": [
    "def voice_control_system():\n",
    "    print(\"Welcome to my voice control system like Alexa.\")\n",
    "    print(\"Available commands:\")\n",
    "    print(\"1: See calendar\")\n",
    "    print(\"2: Open notebook\")\n",
    "    print(\"3: Open Chrome\")\n",
    "\n",
    "    voice_commands = {\n",
    "        \"1\": \"See calendar\",\n",
    "        \"2\": \"Open notebook\",\n",
    "        \"3\": \"Open Chrome\"\n",
    "    }\n",
    "\n",
    "    while True:\n",
    "        ch = input(\"Enter your choice (1/2/3) or 'exit' to quit: \").lower()\n",
    "\n",
    "        if ch == 'exit':\n",
    "            print(\"Exiting the voice control system.\")\n",
    "            break\n",
    "\n",
    "        action = voice_commands.get(ch)\n",
    "        if action:\n",
    "            print(f\"Recognized command: {action}\")\n",
    "            # Perform the corresponding action based on the command.\n",
    "            if ch == \"1\":\n",
    "                print(\"Opening calendar...\")\n",
    "                # Code to see the calendar\n",
    "            elif ch == \"2\":\n",
    "                print(\"Opening notebook...\")\n",
    "                # Code to open the notebook\n",
    "            elif ch == \"3\":\n",
    "                print(\"Opening Chrome...\")\n",
    "                # Code to open Chrome\n",
    "        else:\n",
    "            print(\"Unrecognized command. Please try again.\")\n",
    "\n",
    "if __name__ == \"__main__\":\n",
    "    voice_control_system()\n"
   ]
  },
  {
   "cell_type": "code",
   "execution_count": 1,
   "id": "0a85231e",
   "metadata": {},
   "outputs": [
    {
     "name": "stdout",
     "output_type": "stream",
     "text": [
      "Welcome to my voice control system like Alexa.\n",
      "Available commands:\n",
      "1: See calendar\n",
      "2: Open notebook\n",
      "3: Open Chrome\n",
      "Type 'exit' to quit.\n"
     ]
    },
    {
     "ename": "OSError",
     "evalue": "No Default Input Device Available",
     "output_type": "error",
     "traceback": [
      "\u001b[1;31m---------------------------------------------------------------------------\u001b[0m",
      "\u001b[1;31mOSError\u001b[0m                                   Traceback (most recent call last)",
      "\u001b[1;32m~\\AppData\\Local\\Temp\\ipykernel_4592\\3077182929.py\u001b[0m in \u001b[0;36m<module>\u001b[1;34m\u001b[0m\n\u001b[0;32m     61\u001b[0m \u001b[1;33m\u001b[0m\u001b[0m\n\u001b[0;32m     62\u001b[0m \u001b[1;32mif\u001b[0m \u001b[0m__name__\u001b[0m \u001b[1;33m==\u001b[0m \u001b[1;34m\"__main__\"\u001b[0m\u001b[1;33m:\u001b[0m\u001b[1;33m\u001b[0m\u001b[1;33m\u001b[0m\u001b[0m\n\u001b[1;32m---> 63\u001b[1;33m     \u001b[0mvoice_control_system\u001b[0m\u001b[1;33m(\u001b[0m\u001b[1;33m)\u001b[0m\u001b[1;33m\u001b[0m\u001b[1;33m\u001b[0m\u001b[0m\n\u001b[0m",
      "\u001b[1;32m~\\AppData\\Local\\Temp\\ipykernel_4592\\3077182929.py\u001b[0m in \u001b[0;36mvoice_control_system\u001b[1;34m()\u001b[0m\n\u001b[0;32m     24\u001b[0m \u001b[1;33m\u001b[0m\u001b[0m\n\u001b[0;32m     25\u001b[0m     \u001b[1;32mwhile\u001b[0m \u001b[1;32mTrue\u001b[0m\u001b[1;33m:\u001b[0m\u001b[1;33m\u001b[0m\u001b[1;33m\u001b[0m\u001b[0m\n\u001b[1;32m---> 26\u001b[1;33m         \u001b[1;32mwith\u001b[0m \u001b[0msr\u001b[0m\u001b[1;33m.\u001b[0m\u001b[0mMicrophone\u001b[0m\u001b[1;33m(\u001b[0m\u001b[1;33m)\u001b[0m \u001b[1;32mas\u001b[0m \u001b[0msource\u001b[0m\u001b[1;33m:\u001b[0m\u001b[1;33m\u001b[0m\u001b[1;33m\u001b[0m\u001b[0m\n\u001b[0m\u001b[0;32m     27\u001b[0m             \u001b[0mprint\u001b[0m\u001b[1;33m(\u001b[0m\u001b[1;34m\"Listening...\"\u001b[0m\u001b[1;33m)\u001b[0m\u001b[1;33m\u001b[0m\u001b[1;33m\u001b[0m\u001b[0m\n\u001b[0;32m     28\u001b[0m             \u001b[0mrecognizer\u001b[0m\u001b[1;33m.\u001b[0m\u001b[0madjust_for_ambient_noise\u001b[0m\u001b[1;33m(\u001b[0m\u001b[0msource\u001b[0m\u001b[1;33m)\u001b[0m\u001b[1;33m\u001b[0m\u001b[1;33m\u001b[0m\u001b[0m\n",
      "\u001b[1;32m~\\anaconda3\\lib\\site-packages\\speech_recognition\\__init__.py\u001b[0m in \u001b[0;36m__init__\u001b[1;34m(self, device_index, sample_rate, chunk_size)\u001b[0m\n\u001b[0;32m     85\u001b[0m                 \u001b[1;32massert\u001b[0m \u001b[1;36m0\u001b[0m \u001b[1;33m<=\u001b[0m \u001b[0mdevice_index\u001b[0m \u001b[1;33m<\u001b[0m \u001b[0mcount\u001b[0m\u001b[1;33m,\u001b[0m \u001b[1;34m\"Device index out of range ({} devices available; device index should be between 0 and {} inclusive)\"\u001b[0m\u001b[1;33m.\u001b[0m\u001b[0mformat\u001b[0m\u001b[1;33m(\u001b[0m\u001b[0mcount\u001b[0m\u001b[1;33m,\u001b[0m \u001b[0mcount\u001b[0m \u001b[1;33m-\u001b[0m \u001b[1;36m1\u001b[0m\u001b[1;33m)\u001b[0m\u001b[1;33m\u001b[0m\u001b[1;33m\u001b[0m\u001b[0m\n\u001b[0;32m     86\u001b[0m             \u001b[1;32mif\u001b[0m \u001b[0msample_rate\u001b[0m \u001b[1;32mis\u001b[0m \u001b[1;32mNone\u001b[0m\u001b[1;33m:\u001b[0m  \u001b[1;31m# automatically set the sample rate to the hardware's default sample rate if not specified\u001b[0m\u001b[1;33m\u001b[0m\u001b[1;33m\u001b[0m\u001b[0m\n\u001b[1;32m---> 87\u001b[1;33m                 \u001b[0mdevice_info\u001b[0m \u001b[1;33m=\u001b[0m \u001b[0maudio\u001b[0m\u001b[1;33m.\u001b[0m\u001b[0mget_device_info_by_index\u001b[0m\u001b[1;33m(\u001b[0m\u001b[0mdevice_index\u001b[0m\u001b[1;33m)\u001b[0m \u001b[1;32mif\u001b[0m \u001b[0mdevice_index\u001b[0m \u001b[1;32mis\u001b[0m \u001b[1;32mnot\u001b[0m \u001b[1;32mNone\u001b[0m \u001b[1;32melse\u001b[0m \u001b[0maudio\u001b[0m\u001b[1;33m.\u001b[0m\u001b[0mget_default_input_device_info\u001b[0m\u001b[1;33m(\u001b[0m\u001b[1;33m)\u001b[0m\u001b[1;33m\u001b[0m\u001b[1;33m\u001b[0m\u001b[0m\n\u001b[0m\u001b[0;32m     88\u001b[0m                 \u001b[1;32massert\u001b[0m \u001b[0misinstance\u001b[0m\u001b[1;33m(\u001b[0m\u001b[0mdevice_info\u001b[0m\u001b[1;33m.\u001b[0m\u001b[0mget\u001b[0m\u001b[1;33m(\u001b[0m\u001b[1;34m\"defaultSampleRate\"\u001b[0m\u001b[1;33m)\u001b[0m\u001b[1;33m,\u001b[0m \u001b[1;33m(\u001b[0m\u001b[0mfloat\u001b[0m\u001b[1;33m,\u001b[0m \u001b[0mint\u001b[0m\u001b[1;33m)\u001b[0m\u001b[1;33m)\u001b[0m \u001b[1;32mand\u001b[0m \u001b[0mdevice_info\u001b[0m\u001b[1;33m[\u001b[0m\u001b[1;34m\"defaultSampleRate\"\u001b[0m\u001b[1;33m]\u001b[0m \u001b[1;33m>\u001b[0m \u001b[1;36m0\u001b[0m\u001b[1;33m,\u001b[0m \u001b[1;34m\"Invalid device info returned from PyAudio: {}\"\u001b[0m\u001b[1;33m.\u001b[0m\u001b[0mformat\u001b[0m\u001b[1;33m(\u001b[0m\u001b[0mdevice_info\u001b[0m\u001b[1;33m)\u001b[0m\u001b[1;33m\u001b[0m\u001b[1;33m\u001b[0m\u001b[0m\n\u001b[0;32m     89\u001b[0m                 \u001b[0msample_rate\u001b[0m \u001b[1;33m=\u001b[0m \u001b[0mint\u001b[0m\u001b[1;33m(\u001b[0m\u001b[0mdevice_info\u001b[0m\u001b[1;33m[\u001b[0m\u001b[1;34m\"defaultSampleRate\"\u001b[0m\u001b[1;33m]\u001b[0m\u001b[1;33m)\u001b[0m\u001b[1;33m\u001b[0m\u001b[1;33m\u001b[0m\u001b[0m\n",
      "\u001b[1;32m~\\anaconda3\\lib\\site-packages\\pyaudio\\__init__.py\u001b[0m in \u001b[0;36mget_default_input_device_info\u001b[1;34m(self)\u001b[0m\n\u001b[0;32m    810\u001b[0m         \u001b[1;33m:\u001b[0m\u001b[0mrtype\u001b[0m\u001b[1;33m:\u001b[0m \u001b[0mdict\u001b[0m\u001b[1;33m\u001b[0m\u001b[1;33m\u001b[0m\u001b[0m\n\u001b[0;32m    811\u001b[0m         \"\"\"\n\u001b[1;32m--> 812\u001b[1;33m         \u001b[0mdevice_index\u001b[0m \u001b[1;33m=\u001b[0m \u001b[0mpa\u001b[0m\u001b[1;33m.\u001b[0m\u001b[0mget_default_input_device\u001b[0m\u001b[1;33m(\u001b[0m\u001b[1;33m)\u001b[0m\u001b[1;33m\u001b[0m\u001b[1;33m\u001b[0m\u001b[0m\n\u001b[0m\u001b[0;32m    813\u001b[0m         \u001b[1;32mreturn\u001b[0m \u001b[0mself\u001b[0m\u001b[1;33m.\u001b[0m\u001b[0mget_device_info_by_index\u001b[0m\u001b[1;33m(\u001b[0m\u001b[0mdevice_index\u001b[0m\u001b[1;33m)\u001b[0m\u001b[1;33m\u001b[0m\u001b[1;33m\u001b[0m\u001b[0m\n\u001b[0;32m    814\u001b[0m \u001b[1;33m\u001b[0m\u001b[0m\n",
      "\u001b[1;31mOSError\u001b[0m: No Default Input Device Available"
     ]
    }
   ],
   "source": [
    "import speech_recognition as sr\n",
    "import pyttsx3\n",
    "\n",
    "def speak(text):\n",
    "    engine = pyttsx3.init()\n",
    "    engine.say(text)\n",
    "    engine.runAndWait()\n",
    "\n",
    "def voice_control_system():\n",
    "    print(\"Welcome to my voice control system like Alexa.\")\n",
    "    print(\"Available commands:\")\n",
    "    print(\"1: See calendar\")\n",
    "    print(\"2: Open notebook\")\n",
    "    print(\"3: Open Chrome\")\n",
    "    print(\"Type 'exit' to quit.\")\n",
    "\n",
    "    voice_commands = {\n",
    "        \"1\": \"See calendar\",\n",
    "        \"2\": \"Open notebook\",\n",
    "        \"3\": \"Open Chrome\"\n",
    "    }\n",
    "\n",
    "    recognizer = sr.Recognizer()\n",
    "\n",
    "    while True:\n",
    "        with sr.Microphone() as source:\n",
    "            print(\"Listening...\")\n",
    "            recognizer.adjust_for_ambient_noise(source)\n",
    "            audio = recognizer.listen(source)\n",
    "\n",
    "        try:\n",
    "            user_input = recognizer.recognize_google(audio).lower()\n",
    "            print(\"You said:\", user_input)\n",
    "\n",
    "            if user_input == 'exit':\n",
    "                print(\"Exiting the voice control system.\")\n",
    "                break\n",
    "\n",
    "            action = voice_commands.get(user_input)\n",
    "            if action:\n",
    "                print(f\"Recognized command: {action}\")\n",
    "                speak(action)  # Speak out the recognized command\n",
    "\n",
    "                # Perform the corresponding action based on the command.\n",
    "                if user_input == \"1\":\n",
    "                    print(\"Opening calendar...\")\n",
    "                    # Code to see the calendar\n",
    "                elif user_input == \"2\":\n",
    "                    print(\"Opening notebook...\")\n",
    "                    # Code to open the notebook\n",
    "                elif user_input == \"3\":\n",
    "                    print(\"Opening Chrome...\")\n",
    "                    # Code to open Chrome\n",
    "            else:\n",
    "                print(\"Unrecognized command. Please try again.\")\n",
    "\n",
    "        except sr.UnknownValueError:\n",
    "            print(\"Sorry, could not understand your speech. Please try again.\")\n",
    "        except sr.RequestError as e:\n",
    "            print(f\"Error connecting to Google Speech Recognition service; {e}\")\n",
    "\n",
    "if __name__ == \"__main__\":\n",
    "    voice_control_system()\n"
   ]
  },
  {
   "cell_type": "code",
   "execution_count": 4,
   "id": "1c0304d8",
   "metadata": {},
   "outputs": [
    {
     "name": "stdout",
     "output_type": "stream",
     "text": [
      "Welcome to my part\n",
      "\n",
      "Press 1: to see the calendar\n",
      "Press 2: to run Chrome\n",
      "Press 3: to open the notebook\n",
      "Enter your choice: 2\n",
      "You entered: 2\n",
      "Running Chrome...\n"
     ]
    }
   ],
   "source": [
    "import os\n",
    "\n",
    "print(\"Welcome to my part\")\n",
    "print()\n",
    "print(\"Press 1: to see the calendar\")\n",
    "print(\"Press 2: to run Chrome\")\n",
    "print(\"Press 3: to open the notebook\")\n",
    "\n",
    "ch = input(\"Enter your choice: \")\n",
    "print(\"You entered:\", ch)\n",
    "\n",
    "if ch == \"1\":\n",
    "    print(\"Opening calendar...\")\n",
    "    os.system(\"start outlookcal:\")\n",
    "    # Code to see the calendar\n",
    "elif ch == \"2\":\n",
    "    print(\"Running Chrome...\")\n",
    "    # Option 1: Using os.system (Windows)\n",
    "    os.system(\"start chrome\")  # This will open Chrome on Windows\n",
    "    # Option 2: Using subprocess.run (Windows)\n",
    "    # import subprocess\n",
    "    # subprocess.run([\"start\", \"chrome\"], shell=True)\n",
    "elif ch == \"3\":\n",
    "    print(\"Opening notebook...\")\n",
    "    os.system(\"notepad\")\n",
    "    # Code to open the notebook\n",
    "else:\n",
    "    print(\"Invalid choice. Please choose a valid option (1, 2, or 3).\")\n"
   ]
  },
  {
   "cell_type": "code",
   "execution_count": null,
   "id": "0c3aaf6c",
   "metadata": {},
   "outputs": [],
   "source": []
  },
  {
   "cell_type": "code",
   "execution_count": 4,
   "id": "9b425a50",
   "metadata": {},
   "outputs": [
    {
     "data": {
      "text/plain": [
       "1"
      ]
     },
     "execution_count": 4,
     "metadata": {},
     "output_type": "execute_result"
    }
   ],
   "source": [
    "import os\n",
    "\n",
    "# Open Gedit on Linux\n",
    "os.system(\"gedit\")\n"
   ]
  },
  {
   "cell_type": "code",
   "execution_count": 5,
   "id": "e7f75400",
   "metadata": {},
   "outputs": [
    {
     "data": {
      "text/plain": [
       "0"
      ]
     },
     "execution_count": 5,
     "metadata": {},
     "output_type": "execute_result"
    }
   ],
   "source": [
    "import os\n",
    "\n",
    "# Open Notepad on Windows\n",
    "os.system(\"notepad\")\n"
   ]
  },
  {
   "cell_type": "code",
   "execution_count": null,
   "id": "3d7a4220",
   "metadata": {},
   "outputs": [],
   "source": [
    "import os\n",
    "\n",
    "print(\"Welcome to my part\")\n",
    "print()\n",
    "print(\"Press 1: to see the calendar\")\n",
    "print(\"Press 2: to run Chrome\")\n",
    "print(\"Press 3: to open the notebook\")\n",
    "\n",
    "ch = input(\"Enter your choice: \")\n",
    "print(\"You entered:\", ch)\n",
    "\n",
    "if ch == \"1\":\n",
    "    print(\"Opening calendar...\")\n",
    "    os.system(\"start outlookcal:\")\n",
    "    # Code to see the calendar\n",
    "elif ch == \"2\":\n",
    "    print(\"Running Chrome...\")\n",
    "    # Option 1: Using os.system (Windows)\n",
    "    os.system(\"start chrome\")  # This will open Chrome on Windows\n",
    "    # Option 2: Using subprocess.run (Windows)\n",
    "    # import subprocess\n",
    "    # subprocess.run([\"start\", \"chrome\"], shell=True)\n",
    "elif ch == \"3\":\n",
    "    print(\"Opening notebook...\")\n",
    "    os.system(\"notepad\")\n",
    "    # Code to open the notebook\n",
    "else:\n",
    "    print(\"Invalid choice. Please choose a valid option (1, 2, or 3).\")\n"
   ]
  },
  {
   "cell_type": "code",
   "execution_count": null,
   "id": "459e8b63",
   "metadata": {},
   "outputs": [],
   "source": []
  },
  {
   "cell_type": "code",
   "execution_count": 11,
   "id": "5c0a02ec",
   "metadata": {},
   "outputs": [
    {
     "name": "stdout",
     "output_type": "stream",
     "text": [
      "press 1: to see cal\n",
      "press 2: to run chrome\n",
      "\n"
     ]
    }
   ],
   "source": [
    "print(\"press 1: to see cal\")\n",
    "print(\"press 2: to run chrome\")\n",
    "print()"
   ]
  },
  {
   "cell_type": "code",
   "execution_count": 3,
   "id": "1f86fff2",
   "metadata": {},
   "outputs": [
    {
     "name": "stdout",
     "output_type": "stream",
     "text": [
      "hey i m your robo\n",
      "how i can i help you : open chrome\n"
     ]
    }
   ],
   "source": [
    "#trial\n",
    "import os\n",
    "print(\"hey i m your robo\")\n",
    "ch = input(\"how i can i help you : \")\n",
    "if \"cal\" in ch:\n",
    "    print(\"calendar\")\n",
    "elif \"chrome\" in ch:\n",
    "    os.system(\"start chrome\")\n",
    "else:\n",
    "    print(\"not supported\")\n"
   ]
  },
  {
   "cell_type": "code",
   "execution_count": 15,
   "id": "bc2e6d06",
   "metadata": {},
   "outputs": [
    {
     "name": "stdout",
     "output_type": "stream",
     "text": [
      "hey i am your assistant\n",
      "how can i help you : dont open chrome\n"
     ]
    }
   ],
   "source": [
    "import os\n",
    "print(\"hey i am your assistant\")\n",
    "ch = input(\"how can i help you : \")\n",
    "if ((\"run in ch \") or (\"execute\" in ch)) and (\"cal\" in ch):\n",
    "    print(\"Opening calendar...\")\n",
    "    os.system(\"start outlookcal:\")\n",
    "elif ((\"run in ch\") or (\"open\" in ch )) and (\"chrome\" in ch):\n",
    "    if \"dont\" not in ch and \"not\" not in ch and \"do not\" not in ch:\n",
    "        print(\"Opening chrome\")\n",
    "        os.system(\"start chrome\")\n",
    "        print(\"hey i am your assistant\")\n",
    "    \n",
    "    \n",
    "    \n",
    "else:\n",
    "    print(\"Please type valid text....\")"
   ]
  },
  {
   "cell_type": "code",
   "execution_count": null,
   "id": "052d2d07",
   "metadata": {},
   "outputs": [],
   "source": []
  },
  {
   "cell_type": "code",
   "execution_count": 16,
   "id": "9031e6a0",
   "metadata": {},
   "outputs": [
    {
     "name": "stdout",
     "output_type": "stream",
     "text": [
      "Hey, I am your assistant.\n",
      "How can I help you: dont open chrome\n",
      "Okay, I won't open Chrome.\n"
     ]
    }
   ],
   "source": [
    "import os\n",
    "\n",
    "print(\"Hey, I am your assistant.\")\n",
    "ch = input(\"How can I help you: \")\n",
    "\n",
    "if (\"run\" in ch or \"execute\" in ch) and \"cal\" in ch:\n",
    "    print(\"Opening calendar...\")\n",
    "    os.system(\"start outlookcal:\")\n",
    "elif (\"run\" in ch or \"open\" in ch) and \"chrome\" in ch:\n",
    "    if \"dont\" not in ch and \"not\" not in ch and \"do not\" not in ch:\n",
    "        print(\"Opening Chrome...\")\n",
    "        os.system(\"start chrome\")\n",
    "    else:\n",
    "        print(\"Okay, I won't open Chrome.\")\n",
    "else:\n",
    "    assistance_message = \"How can I help you: \"\n",
    "    if ch.strip():  # Check if the user input is not empty or whitespace-only\n",
    "        print(\"Please type valid text....\")\n",
    "    else:\n",
    "        print(assistance_message)\n"
   ]
  },
  {
   "cell_type": "code",
   "execution_count": null,
   "id": "0125213f",
   "metadata": {},
   "outputs": [],
   "source": []
  },
  {
   "cell_type": "code",
   "execution_count": null,
   "id": "da213917",
   "metadata": {},
   "outputs": [],
   "source": []
  },
  {
   "cell_type": "code",
   "execution_count": null,
   "id": "52359689",
   "metadata": {},
   "outputs": [],
   "source": []
  },
  {
   "cell_type": "code",
   "execution_count": null,
   "id": "6dc0de7a",
   "metadata": {},
   "outputs": [
    {
     "name": "stdout",
     "output_type": "stream",
     "text": [
      "Hey, I am your assistant.\n",
      "How can I help you: open chrome\n",
      "Opening Chrome...\n",
      "How can I help you: dont open chrome\n",
      "Okay, I won't open Chrome.\n"
     ]
    }
   ],
   "source": [
    "import os\n",
    "\n",
    "print(\"Hey, I am your assistant.\")\n",
    "\n",
    "def open_calendar():\n",
    "    print(\"Opening calendar...\")\n",
    "    os.system(\"start outlookcal:\")\n",
    "\n",
    "def open_chrome():\n",
    "    print(\"Opening Chrome...\")\n",
    "    os.system(\"start chrome\")\n",
    "\n",
    "def assistance():\n",
    "    ch = input(\"How can I help you: \").strip()\n",
    "    return ch\n",
    "\n",
    "while True:\n",
    "    ch = assistance()\n",
    "\n",
    "    if (\"run\" in ch or \"execute\" in ch) and \"cal\" in ch:\n",
    "        open_calendar()\n",
    "    elif (\"run\" in ch or \"open\" in ch) and \"chrome\" in ch:\n",
    "        if \"dont\" not in ch and \"not\" not in ch and \"do not\" not in ch:\n",
    "            open_chrome()\n",
    "        else:\n",
    "            print(\"Okay, I won't open Chrome.\")\n",
    "    elif ch:\n",
    "        print(\"Please type valid text....\")\n",
    "    else:\n",
    "        print(\"Thank you, bye.\")\n",
    "        break\n"
   ]
  },
  {
   "cell_type": "code",
   "execution_count": null,
   "id": "9bdfdcd0",
   "metadata": {},
   "outputs": [],
   "source": []
  }
 ],
 "metadata": {
  "kernelspec": {
   "display_name": "Python 3 (ipykernel)",
   "language": "python",
   "name": "python3"
  },
  "language_info": {
   "codemirror_mode": {
    "name": "ipython",
    "version": 3
   },
   "file_extension": ".py",
   "mimetype": "text/x-python",
   "name": "python",
   "nbconvert_exporter": "python",
   "pygments_lexer": "ipython3",
   "version": "3.9.13"
  }
 },
 "nbformat": 4,
 "nbformat_minor": 5
}
